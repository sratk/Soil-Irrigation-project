{
  "nbformat": 4,
  "nbformat_minor": 0,
  "metadata": {
    "colab": {
      "name": "Training function for soil irrigation project.ipynb",
      "provenance": [],
      "collapsed_sections": [],
      "machine_shape": "hm",
      "include_colab_link": true
    },
    "kernelspec": {
      "name": "python3",
      "display_name": "Python 3"
    },
    "accelerator": "TPU"
  },
  "cells": [
    {
      "cell_type": "markdown",
      "metadata": {
        "id": "view-in-github",
        "colab_type": "text"
      },
      "source": [
        "<a href=\"https://colab.research.google.com/github/moupriyaroy25/Soil-Irrigation-project/blob/main/Training_function_for_soil_irrigation_project.ipynb\" target=\"_parent\"><img src=\"https://colab.research.google.com/assets/colab-badge.svg\" alt=\"Open In Colab\"/></a>"
      ]
    },
    {
      "cell_type": "markdown",
      "metadata": {
        "id": "4cbgwZWWfWpp"
      },
      "source": [
        "# Training algorithms\n",
        "- self learning notes\n",
        "- neural network[w1*m1+w2*m2+bias]\n",
        "- sigmoid/logistic function(x)[1/1+exp(-x)]\n",
        "-  neural network(m1,m2)= sigmoid(w1*m1+w2*m2+bias)\n",
        "\n"
      ]
    },
    {
      "cell_type": "code",
      "metadata": {
        "id": "tAb77yZ9fzMG"
      },
      "source": [
        "import numpy as np"
      ],
      "execution_count": 2,
      "outputs": []
    },
    {
      "cell_type": "code",
      "metadata": {
        "id": "pafL7Li0jyXW"
      },
      "source": [
        "def train():\n",
        "    #random init of weights\n",
        "    w1 = np.random.randn()\n",
        "    w2 = np.random.randn()\n",
        "    b = np.random.randn()\n",
        "    \n",
        "    iterations = 10000\n",
        "    learning_rate = 0.1\n",
        "    costs = [] # keep costs during training, see if they go down\n",
        "    \n",
        "    for i in range(iterations):\n",
        "        # get a random point\n",
        "        random_i = np.random.randint(len(data))\n",
        "        point = data[random_i]\n",
        "        \n",
        "        z = point[0] * w1 + point[1] * w2 + b\n",
        "        pred = sigmoid(z) # networks prediction\n",
        "        \n",
        "        target = point[2]\n",
        "        \n",
        "        # cost for current random point\n",
        "        cost = np.square(pred - target)\n",
        "        \n",
        "        # printing cost over all data points every 1000 iteration\n",
        "        if i % 100 == 0:\n",
        "            c = 0\n",
        "            for j in range(len(data)):\n",
        "                p = data[j]\n",
        "                p_pred = sigmoid(w1 * p[0] + w2 * p[1] + b)\n",
        "                c += np.square(p_pred - p[2])\n",
        "            costs.append(c)\n",
        "        \n",
        "        dcost_dpred = 2 * (pred - target)\n",
        "        dpred_dz = sigmoid_p(z)\n",
        "        \n",
        "        dz_dw1 = point[0]\n",
        "        dz_dw2 = point[1]\n",
        "        dz_db = 1\n",
        "        \n",
        "        dcost_dz = dcost_dpred * dpred_dz\n",
        "        \n",
        "        dcost_dw1 = dcost_dz * dz_dw1\n",
        "        dcost_dw2 = dcost_dz * dz_dw2\n",
        "        dcost_db = dcost_dz * dz_db\n",
        "        w1 = w1 - learning_rate * dcost_dw1\n",
        "        w2 = w2 - learning_rate * dcost_dw2\n",
        "        b = b - learning_rate * dcost_db\n",
        "        \n",
        "    return costs, w1, w2, b\n",
        "        \n",
        "costs, w1, w2, b = train()"
      ],
      "execution_count": null,
      "outputs": []
    },
    {
      "cell_type": "code",
      "source": [
        "z = w1 * target[0] + w2 * target[1] + b\n",
        "pred = sigmoid(z)\n",
        "\n",
        "print(pred)"
      ],
      "metadata": {
        "id": "icRh_wtqEnFz"
      },
      "execution_count": null,
      "outputs": []
    }
  ]
}